{
 "cells": [
  {
   "cell_type": "markdown",
   "id": "2ed1e982-6434-45a2-ab2d-531aeafdc8b6",
   "metadata": {},
   "source": [
    "#### Inserción de una marca de agua en una imagen reducida\n",
    "#### Script: watermark.py\n",
    "\n",
    "**Gabriel Ruiz Martinez**\n",
    "\n",
    "[ORCID](https://orcid.org/0000-0001-6651-7836) | [Scopus](https://www.scopus.com/authid/detail.uri?authorId=57188985692) | [Posgrado IMTA](http://posgrado.imta.edu.mx/index.php/2-inicio/168-semblanza-curricular-dr-gabriel-ruiz-martinez)\n",
    "\n",
    "Tecnólogo del Agua | Subcoordinación de Aguas Superficiales y Océanicas.\n",
    "\n",
    "[Instituto Mexicano de Tecnología del Agua](https://www.gob.mx/imta).\n",
    "Octubre del 2023\n",
    "\n",
    "\n",
    "El script tiene las siguientes funcionalidades: \n",
    "1) inserta una marca de agua en una image jpg. La marca de agua contiene datos relacionados con coordenadas UTM y fechas. Las coordenadas se importan de una hoja de Excel.\n",
    "2) Cambia las dimensiones de las imagen a 8 x 6 cms.\n",
    "3) La imagen redimensionada y con la marca de agua se exporta a una imagen png.\n",
    "\n",
    "Esta rutina requiere que se encuentre instalado el modulo de\n",
    "PILLOW en Python.\n",
    "\n",
    "Created on Sat Oct 7 11:18:49 2023\n",
    "\n",
    "@author: Gabriel Ruiz\n"
   ]
  },
  {
   "cell_type": "markdown",
   "id": "bb2675b2-9bed-4376-8f49-b3c7c7610e86",
   "metadata": {},
   "source": [
    "### Importación de módulos"
   ]
  },
  {
   "cell_type": "code",
   "execution_count": 3,
   "id": "5636ad9e",
   "metadata": {},
   "outputs": [],
   "source": [
    "from PIL import Image\n",
    "from PIL import ImageFont\n",
    "from PIL import ImageDraw\n",
    "import matplotlib.pyplot as plt\n",
    "import numpy as np\n",
    "import pandas as pd\n",
    "import os"
   ]
  },
  {
   "cell_type": "markdown",
   "id": "0ae9b38a-9200-4ef1-8644-305fc919bb2f",
   "metadata": {},
   "source": [
    "### Entradas del programa"
   ]
  },
  {
   "cell_type": "markdown",
   "id": "950aef2e-fecd-4cdd-b27d-e76afa7f3355",
   "metadata": {},
   "source": [
    "Nombre del archivo de Excel con la información que se agregará en la marca de agua."
   ]
  },
  {
   "cell_type": "code",
   "execution_count": 4,
   "id": "5bf67ae8",
   "metadata": {},
   "outputs": [],
   "source": [
    "fileExcel = 'Puntos_utm.xlsx'"
   ]
  },
  {
   "cell_type": "markdown",
   "id": "d2dd8333-3a3c-4912-96e5-bdc1e17337d4",
   "metadata": {},
   "source": [
    "Dimensiones en las cuales se reducirá la imagen original (en cms)."
   ]
  },
  {
   "cell_type": "code",
   "execution_count": 5,
   "id": "7bba5d00",
   "metadata": {},
   "outputs": [],
   "source": [
    "largo = 8\n",
    "ancho = 6"
   ]
  },
  {
   "cell_type": "markdown",
   "id": "55551149-56ee-44b5-8f47-c2195da91795",
   "metadata": {},
   "source": [
    "Coordenadas en la imagen, donde se ubicará la esquina superior izquierda del cuadro de la marca de agua (en pixeles)."
   ]
  },
  {
   "cell_type": "code",
   "execution_count": 6,
   "id": "7befe7f6",
   "metadata": {},
   "outputs": [],
   "source": [
    "x = 260\n",
    "y = 155\n",
    "\n",
    "# x = 800\n",
    "# y = 570"
   ]
  },
  {
   "cell_type": "markdown",
   "id": "6962069b-a461-4d01-86a2-1898ee9019b0",
   "metadata": {},
   "source": [
    "Ruta de acceso donde se encuentra la fuente tipográfica que se usará en la marca de agua."
   ]
  },
  {
   "cell_type": "code",
   "execution_count": 7,
   "id": "fc7f5ae4",
   "metadata": {},
   "outputs": [],
   "source": [
    "pathFont = 'C:\\\\Windows\\\\Fonts\\\\Montserrat\\\\Montserrat-Bold.ttf'"
   ]
  },
  {
   "cell_type": "markdown",
   "id": "1516eaa9-2bf1-42d7-8509-f53fb5d81194",
   "metadata": {},
   "source": [
    "### Codificación"
   ]
  },
  {
   "cell_type": "markdown",
   "id": "ad308169-b29e-44fc-a619-ed48d9b720aa",
   "metadata": {},
   "source": [
    "Formando la tupla con la ubicación de la marca de agua."
   ]
  },
  {
   "cell_type": "code",
   "execution_count": 8,
   "id": "cd85299e",
   "metadata": {},
   "outputs": [],
   "source": [
    "wpos = tuple([x, y])"
   ]
  },
  {
   "cell_type": "markdown",
   "id": "c4a606a0-c627-4f9a-b153-5011a2bfb88b",
   "metadata": {},
   "source": [
    "Obteniendo el valor de los pixeles según las dimensiones que se quiere reducir la imagen en cm."
   ]
  },
  {
   "cell_type": "code",
   "execution_count": 9,
   "id": "bf8a6eaf",
   "metadata": {},
   "outputs": [],
   "source": [
    "tam = [int(np.floor(largo*(96/2.54))), \n",
    "       int(np.floor(ancho*(96/2.54)))]"
   ]
  },
  {
   "cell_type": "markdown",
   "id": "2e896e4f-672a-4520-80fe-80a335f745ec",
   "metadata": {},
   "source": [
    "Importando los datos de la hoja de Excel."
   ]
  },
  {
   "cell_type": "code",
   "execution_count": 10,
   "id": "e42e6990",
   "metadata": {},
   "outputs": [],
   "source": [
    "try:\n",
    "    datos = pd.read_excel(fileExcel,\n",
    "                      header=0,\n",
    "                      usecols=[1, 2, 3, 4, 5, 6],\n",
    "                      parse_dates=True,            \n",
    "                      engine='openpyxl')\n",
    "except OSError:\n",
    "    print('Hay un problema con el archivo de Excel, no se pudo cargar')"
   ]
  },
  {
   "cell_type": "code",
   "execution_count": null,
   "id": "14428f20",
   "metadata": {
    "lines_to_next_cell": 2
   },
   "outputs": [],
   "source": [
    "for f in os.listdir(os.getcwd()):\n",
    "    if f.endswith('.jpg') and f[0] == 'p':\n",
    "        \n",
    "        print('Procesando archivo: {:s}'.format(f))\n",
    "        \n",
    "        # Conociendo el punto y no de foto analizados\n",
    "        noPoint = f[2:5]\n",
    "        noFoto = f[6:8]\n",
    "        \n",
    "        # Encontrando el numero de indice del Dataframe que le corresponde \n",
    "        # al punto\n",
    "        try:\n",
    "            ptoIndex = datos.index[datos['No'] == int(noPoint)][0]\n",
    "            \n",
    "            # Importando la imagen a Python, reduciendo sus dimensiones\n",
    "            try:\n",
    "                # Abriendo la imagen\n",
    "                with Image.open(f) as im:\n",
    "                    #im.show()\n",
    "                    im.thumbnail(tam, Image.Resampling.LANCZOS)\n",
    "                    #im.save('a.jpg','JPEG')\n",
    "                    plt.imshow(im)\n",
    "                # Creando un copia de la imagen, la copia sera la \n",
    "                # imagen que vamos a editar\n",
    "                imaEdit = im.copy()\n",
    "            \n",
    "                # Creando un objeto que se usara para dibujar en la imagen\n",
    "                imagen = ImageDraw.Draw(imaEdit)\n",
    "\n",
    "                # Estableciendo la fuente de la marca de agua\n",
    "                tipo = ImageFont.truetype(font=pathFont, \n",
    "                                          size=8, \n",
    "                                          encoding='unic')\n",
    "            \n",
    "                # Datos de la marca de agua\n",
    "                xutm = str(np.floor(datos.iloc[ptoIndex][0]*100)/100)\n",
    "                yutm = str(np.floor(datos.iloc[ptoIndex][1]*100)/100)\n",
    "                pto = str(int(datos.iloc[ptoIndex][2]))\n",
    "                dia = str(datos.iloc[ptoIndex][3].day)\n",
    "                mes = str(datos.iloc[ptoIndex][3].month)\n",
    "                year = str(datos.iloc[ptoIndex][3].year)\n",
    "            \n",
    "                if datos.iloc[ptoIndex][4].hour <= 9:\n",
    "                    hora = '0' + str(datos.iloc[ptoIndex][4].hour)\n",
    "                else:\n",
    "                    hora = str(datos.iloc[ptoIndex][4].hour)\n",
    "                if datos.iloc[ptoIndex][4].minute <= 9:\n",
    "                    minuto = '0' + str(datos.iloc[ptoIndex][4].minute)\n",
    "                else:\n",
    "                    minuto = str(datos.iloc[ptoIndex][4].minute)\n",
    "                \n",
    "                frente = datos.iloc[ptoIndex][5]\n",
    "            \n",
    "                # Texto de la marca de agua\n",
    "                marca_agua = 'Tramo 7\\n'+'X = ' + xutm + '\\n' + 'Y = ' + yutm+\\\n",
    "                         '\\n' + 'Observacion P:' + pto + '\\n' + dia + '/' + \\\n",
    "                          mes + '/' + year + ' ' + hora + \":\" + minuto + '\\n'+\\\n",
    "                          frente\n",
    "                          \n",
    "                # Agregando la marca de agua\n",
    "                imagen.multiline_text(wpos, \n",
    "                                  marca_agua,\n",
    "                                  fill=None,\n",
    "                                  font=tipo,\n",
    "                                  anchor='ms',\n",
    "                                  spacing=0,\n",
    "                                  align='left',\n",
    "                                  stroke_fill='black',\n",
    "                                  stroke_width=1)\n",
    "                \n",
    "                # Exportando la imagen con la marca de agua en la imagen reducida\n",
    "                imaEdit.save('p_' + noPoint + '_' + noFoto + '.png', 'PNG')\n",
    "                #imaEdit.show()        \n",
    "                \n",
    "            except OSError:\n",
    "                print('Hay un problema al abrir la imagen')\n",
    "            \n",
    "        except:\n",
    "            print('El archivo {:s} es un punto que'.format(f))\n",
    "            print('no se encuentra en la base de datos!')"
   ]
  }
 ],
 "metadata": {
  "jupytext": {
   "cell_metadata_filter": "-all",
   "encoding": "# -*- coding: utf-8 -*-",
   "main_language": "python",
   "notebook_metadata_filter": "-all"
  },
  "kernelspec": {
   "display_name": "Python 3 (ipykernel)",
   "language": "python",
   "name": "python3"
  },
  "language_info": {
   "codemirror_mode": {
    "name": "ipython",
    "version": 3
   },
   "file_extension": ".py",
   "mimetype": "text/x-python",
   "name": "python",
   "nbconvert_exporter": "python",
   "pygments_lexer": "ipython3",
   "version": "3.10.9"
  }
 },
 "nbformat": 4,
 "nbformat_minor": 5
}
