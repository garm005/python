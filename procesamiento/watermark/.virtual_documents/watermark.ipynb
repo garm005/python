from PIL import Image
from PIL import ImageFont
from PIL import ImageDraw
import matplotlib.pyplot as plt
import numpy as np
import pandas as pd
import os


fileExcel = 'Puntos_utm.xlsx'


largo = 8
ancho = 6


x = 260
y = 155

# x = 800
# y = 570


pathFont = 'C:\\Windows\\Fonts\\Montserrat\\Montserrat-Bold.ttf'


wpos = tuple([x, y])


tam = [int(np.floor(largo*(96/2.54))), 
       int(np.floor(ancho*(96/2.54)))]


try:
    datos = pd.read_excel(fileExcel,
                      header=0,
                      usecols=[1, 2, 3, 4, 5, 6],
                      parse_dates=True,            
                      engine='openpyxl')
except OSError:
    print('Hay un problema con el archivo de Excel, no se pudo cargar')


for f in os.listdir(os.getcwd()):
    if f.endswith('.jpg') and f[0] == 'p':
        
        print('Procesando archivo: {:s}'.format(f))
        
        # Conociendo el punto y no de foto analizados
        noPoint = f[2:5]
        noFoto = f[6:8]
        
        # Encontrando el numero de indice del Dataframe que le corresponde 
        # al punto
        try:
            ptoIndex = datos.index[datos['No'] == int(noPoint)][0]
            
            # Importando la imagen a Python, reduciendo sus dimensiones
            try:
                # Abriendo la imagen
                with Image.open(f) as im:
                    #im.show()
                    im.thumbnail(tam, Image.Resampling.LANCZOS)
                    #im.save('a.jpg','JPEG')
                    plt.imshow(im)
                # Creando un copia de la imagen, la copia sera la 
                # imagen que vamos a editar
                imaEdit = im.copy()
            
                # Creando un objeto que se usara para dibujar en la imagen
                imagen = ImageDraw.Draw(imaEdit)

                # Estableciendo la fuente de la marca de agua
                tipo = ImageFont.truetype(font=pathFont, 
                                          size=8, 
                                          encoding='unic')
            
                # Datos de la marca de agua
                xutm = str(np.floor(datos.iloc[ptoIndex][0]*100)/100)
                yutm = str(np.floor(datos.iloc[ptoIndex][1]*100)/100)
                pto = str(int(datos.iloc[ptoIndex][2]))
                dia = str(datos.iloc[ptoIndex][3].day)
                mes = str(datos.iloc[ptoIndex][3].month)
                year = str(datos.iloc[ptoIndex][3].year)
            
                if datos.iloc[ptoIndex][4].hour <= 9:
                    hora = '0' + str(datos.iloc[ptoIndex][4].hour)
                else:
                    hora = str(datos.iloc[ptoIndex][4].hour)
                if datos.iloc[ptoIndex][4].minute <= 9:
                    minuto = '0' + str(datos.iloc[ptoIndex][4].minute)
                else:
                    minuto = str(datos.iloc[ptoIndex][4].minute)
                
                frente = datos.iloc[ptoIndex][5]
            
                # Texto de la marca de agua
                marca_agua = 'Tramo 7\n'+'X = ' + xutm + '\n' + 'Y = ' + yutm+\
                         '\n' + 'Observacion P:' + pto + '\n' + dia + '/' + \
                          mes + '/' + year + ' ' + hora + ":" + minuto + '\n'+\
                          frente
                          
                # Agregando la marca de agua
                imagen.multiline_text(wpos, 
                                  marca_agua,
                                  fill=None,
                                  font=tipo,
                                  anchor='ms',
                                  spacing=0,
                                  align='left',
                                  stroke_fill='black',
                                  stroke_width=1)
                
                # Exportando la imagen con la marca de agua en la imagen reducida
                imaEdit.save('p_' + noPoint + '_' + noFoto + '.png', 'PNG')
                #imaEdit.show()        
                
            except OSError:
                print('Hay un problema al abrir la imagen')
            
        except:
            print('El archivo {:s} es un punto que'.format(f))
            print('no se encuentra en la base de datos!')
