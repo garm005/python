{
 "cells": [
  {
   "cell_type": "markdown",
   "id": "a5888d29",
   "metadata": {},
   "source": [
    "#### Importación de datos de un archivo mat a Python\n",
    "#### Script: matM9toPy.py\n",
    "\n",
    "**Gabriel Ruiz Martinez**\n",
    "\n",
    "[ORCID](https://orcid.org/0000-0001-6651-7836) | [Scopus](https://www.scopus.com/authid/detail.uri?authorId=57188985692) | [Posgrado IMTA](http://posgrado.imta.edu.mx/index.php/2-inicio/168-semblanza-curricular-dr-gabriel-ruiz-martinez)\n",
    "\n",
    "Tecnólogo del Agua | Subcoordinación de Aguas Superficiales y Océanicas.\n",
    "\n",
    "[Instituto Mexicano de Tecnología del Agua](https://www.gob.mx/imta).\n",
    "Agosto del 2023\n",
    "\n",
    "\n",
    "\n",
    "Cuando se utiliza el perfilador portatil Sontek Surveyor M9 para medir flujos de agua y batimetría en un río o embalse de de agua, el dispositivo electrónico exporta los valores registrados en un archivo mat. Este tipo de archivos requiere que se tenga Matlab para procesar los datos. Sin embargo, Matlab es un programa comercial que en algunas ocasiones no se tiene la licencia para realizar el postprocesamiento de los datos del M9; por tal razón, a continuación se presenta una metodología para importar los datos de un archivo mat a Python.\n",
    "\n",
    "\n",
    "modificación: 04."
   ]
  },
  {
   "cell_type": "markdown",
   "id": "dbb47a87",
   "metadata": {},
   "source": [
    "#### 1. Importando los módulos."
   ]
  },
  {
   "cell_type": "code",
   "execution_count": 1,
   "id": "735506bb",
   "metadata": {},
   "outputs": [],
   "source": [
    "from collections import OrderedDict\n",
    "import fiona\n",
    "import matplotlib.pyplot as plt\n",
    "import numpy as np\n",
    "import pandas as pd\n",
    "import scipy.io as sio \n",
    "import simplekml\n",
    "import math"
   ]
  },
  {
   "cell_type": "markdown",
   "id": "22e997b6",
   "metadata": {},
   "source": [
    "#### 2. Definiendo funciones de usuario."
   ]
  },
  {
   "cell_type": "code",
   "execution_count": 2,
   "id": "be5a7d9e",
   "metadata": {},
   "outputs": [],
   "source": [
    "def points2layer(inputfile, shpfile, cs):\n",
    "    '''\n",
    "    Script que exporta PUNTOS de un archivo csv a un archivo shapefile,\n",
    "    creandose los archivos .dbf, .prj, .shp y .shx.\n",
    "    SE REQUIEREN LOS MODULOS DE FIONA Y PANDAS. El archivo csv que se usara para         \n",
    "    generar la tabla de atributos debera tener 1 linea de encabezados y 3 \n",
    "    columnas, en el siguiente orden y nombre del encabezado:\n",
    "    1. coordenadas de longitud (Lon), \n",
    "    2. coordenadas de latitud (Lat), \n",
    "    3. etiqueta del punto (Etiqueta).\n",
    "    Argumentos de la funcion:\n",
    "    inputfile: nombre del archivo csv con los puntos,\n",
    "               incluir la extension del archivo.\n",
    "    shpfile: nombre del shapefile (este nombre se \n",
    "             exportara como el nombre de la capa)\n",
    "             no incluir la extension de archivo.\n",
    "    cs = Sistema de referencia geografico de los puntos.\n",
    "             \n",
    "    Ejemplo:\n",
    "        inputfile = 'PtosPista.csv'\n",
    "        shpfile = 'PuntosPista'\n",
    "        cs = 'WGS84'\n",
    "\n",
    "        points2layer(inputfile,shpfile,cs)\n",
    "    Gabriel Ruiz, 2022. IMTA.\n",
    "    '''\n",
    "    \n",
    "    try:\n",
    "        # Abriendo el archivo de datos y guardando en un dataframe de Pandas\n",
    "        if inputfile[-1] == 'z':   # xyz\n",
    "            datos = pd.read_csv(inputfile, header = 0, sep = ' ')\n",
    "            datacsv = 0;\n",
    "            schema = {\n",
    "                'geometry': 'Point',\n",
    "                'properties': OrderedDict([\n",
    "                    ('ID', 'int'),\n",
    "                    ('Nombre', 'str'),\n",
    "                    ('X/Lon', 'float'),\n",
    "                    ('Y/Lat', 'float'),\n",
    "                    ('Z', 'float'),\n",
    "                    ('Cuerpo', 'str')\n",
    "                    ])\n",
    "                }            \n",
    "        else:                      # cvs\n",
    "            datos = pd.read_csv(inputfile, header = 0, sep = ',')\n",
    "            datacsv = 1;\n",
    "            \n",
    "            # Definiendo el esquema que requiere fiona para la \n",
    "            # exportación de la tabla de atributos\n",
    "            schema = {\n",
    "                'geometry': 'Point',\n",
    "                'properties': OrderedDict([\n",
    "                    ('ID', 'int'),\n",
    "                    ('Nombre', 'str'),\n",
    "                    ('X/Lon', 'float'),\n",
    "                    ('Y/Lat', 'float')\n",
    "                    ])\n",
    "                }\n",
    "\n",
    "        # Estableciendo el sistema de referencia\n",
    "        if cs == 'WGS84':\n",
    "                sc = 'EPSG:4326'\n",
    "        elif cs == 'UTM_13N':\n",
    "                sc = 'EPSG:32613'\n",
    "        elif cs == 'UTM_14N':\n",
    "                sc = 'EPSG:32614'\n",
    "        elif cs == 'UTM_15N':\n",
    "                sc = 'EPSG:32615'\n",
    "        elif cs == 'UTM_16N':\n",
    "                sc = 'EPSG:32616'\n",
    "              \n",
    "        # Almacenando en tupla el no. de filas y columnas del dataframe\n",
    "        nf = datos.shape\n",
    "\n",
    "        # Creando la coleccion que se usara para exportar los datos\n",
    "        pto2shp = fiona.open(shpfile+'.shp', \n",
    "                             mode = 'w', \n",
    "                             driver = 'ESRI Shapefile', \n",
    "                             schema = schema, \n",
    "                             crs = sc)\n",
    "        \n",
    "        # Exportando los datos, via diccionario, a la coleccion de fiona\n",
    "        if datacsv == 1:\n",
    "            for i in range(nf[0]):\n",
    "                dicdatos = {\n",
    "                    'geometry': {'type': 'Point', \n",
    "                                 'coordinates': (datos.Lon[i],datos.Lat[i])},\n",
    "                    'properties':{'ID': i, \n",
    "                                  'Nombre': datos.Etiqueta[i],\n",
    "                                  'X/Lon': datos.Lon[i],\n",
    "                                  'Y/Lat': datos.Lat[i]} }\n",
    "                pto2shp.write(dicdatos)\n",
    "        else:\n",
    "            for i in range(nf[0]):\n",
    "                \n",
    "                if datos.iloc[i,2] < 0:\n",
    "                    cuerpo = 'Tierra'\n",
    "                else:\n",
    "                    cuerpo = 'Agua'\n",
    "                    \n",
    "                dicdatos = {\n",
    "                    'geometry': {'type': 'Point', \n",
    "                                 'coordinates': (datos.iloc[i,0],datos.iloc[i,1])},\n",
    "                    'properties':{'ID': i, \n",
    "                                  'Nombre': 'Punto' + str(i),\n",
    "                                  'X/Lon': datos.iloc[i,0],\n",
    "                                  'Y/Lat': datos.iloc[i,1],\n",
    "                                  'Z': datos.iloc[i,2],\n",
    "                                  'Cuerpo': cuerpo\n",
    "                                  } }\n",
    "                pto2shp.write(dicdatos)\n",
    "\n",
    "        # Cerrando la coleccion fiona (cerrando archivos creados)\n",
    "        pto2shp.close()\n",
    "        print('Los puntos se han enviado a un archivo SHP.')\n",
    "    except:\n",
    "        print('Error en la funcion')  \n",
    "    return "
   ]
  },
  {
   "cell_type": "markdown",
   "id": "ab52ca5b",
   "metadata": {},
   "source": [
    "#### 3. Metodología (Script).\n",
    "\n",
    "Para importar los datos que se encuentran almacenados en el archivo mat, vamos a usar el método `loadmat` del modulo Scipy. Este método importa los datos hacia un diccionario. Cada variable que se encuentra en el archivo mat, le corresponde un clave y valor en el diccionario. <br> \n",
    "\n",
    "Los nombres de las claves corresponden a los nombres de las estructuras de Matlab. A continuación, vamos a importar los datos de un archivo mat a la variable `datos`. Cabe resaltar que este archivo mat fue creado a partir del post-proceso que se realizó a un archivo riv del dispositivo Sontek Surveyor M9, usado para obtener la batimetría de un cuerpo de agua."
   ]
  },
  {
   "cell_type": "code",
   "execution_count": 3,
   "id": "2b5ca754",
   "metadata": {},
   "outputs": [],
   "source": [
    "nfile = '20230719091839'\n",
    "datos = sio.loadmat(nfile, appendmat=True)"
   ]
  },
  {
   "cell_type": "markdown",
   "id": "372c3992",
   "metadata": {},
   "source": [
    "Vamos a revisar las etiquetas del diccionario con los datos importados."
   ]
  },
  {
   "cell_type": "code",
   "execution_count": 4,
   "id": "dc9c0e66",
   "metadata": {},
   "outputs": [
    {
     "data": {
      "text/plain": [
       "['BottomTrack',\n",
       " 'Compass',\n",
       " 'GPS',\n",
       " 'Processing',\n",
       " 'RawGPSData',\n",
       " 'Setup',\n",
       " 'SiteInfo',\n",
       " 'Summary',\n",
       " 'System',\n",
       " 'SystemHW',\n",
       " 'Transformation_Matrices',\n",
       " 'WaterTrack',\n",
       " '__globals__',\n",
       " '__header__',\n",
       " '__version__']"
      ]
     },
     "execution_count": 4,
     "metadata": {},
     "output_type": "execute_result"
    }
   ],
   "source": [
    "sorted(datos.keys())"
   ]
  },
  {
   "cell_type": "markdown",
   "id": "e3a76e01",
   "metadata": {},
   "source": [
    "Para este ejemplo, los datos que nos interesan se encuentran en las etiquetas <i>BottomTrack</i> y <i>GPS</i>. Extraígamos los datos que se encuentran en BottomTrack y vamos a almacenarlos en la variable `databBT`."
   ]
  },
  {
   "cell_type": "code",
   "execution_count": 5,
   "id": "8345cf65",
   "metadata": {},
   "outputs": [],
   "source": [
    "dataBT = datos['BottomTrack']"
   ]
  },
  {
   "cell_type": "markdown",
   "id": "2aa74100",
   "metadata": {},
   "source": [
    "Vamos a identificar el tipo de datos que contiene la variable `dataBT`:"
   ]
  },
  {
   "cell_type": "code",
   "execution_count": 6,
   "id": "ac4de116",
   "metadata": {},
   "outputs": [
    {
     "data": {
      "text/plain": [
       "dtype([('VB_Depth', 'O'), ('BT_Depth', 'O'), ('BT_Vel', 'O'), ('BT_Beam_Depth', 'O'), ('BT_Frequency', 'O'), ('Units', 'O')])"
      ]
     },
     "execution_count": 6,
     "metadata": {},
     "output_type": "execute_result"
    }
   ],
   "source": [
    "dataBT.dtype"
   ]
  },
  {
   "cell_type": "markdown",
   "id": "d6a0c9c1",
   "metadata": {},
   "source": [
    "Podemos identificar que Scipy lee las estructuras de Matlab como <b>arreglos estructurados de Numpy</b> (<i>ndarray object of Numpy module</i>) y el tipo de dato será \"objeto\"  (<i>'O'</i> ). También, podemos observar que la estructura BottomTrack, contiene 6 subestructuras donde se encuentran los datos registrados por el dispositivo electrónico M9. Vamos a extraer los datos de las profundidades (valor z) y almacenarlos en sus respectivas variables:"
   ]
  },
  {
   "cell_type": "code",
   "execution_count": 7,
   "id": "91aa617e",
   "metadata": {},
   "outputs": [],
   "source": [
    "dBT = datos[\"BottomTrack\"][\"BT_Depth\"]"
   ]
  },
  {
   "cell_type": "markdown",
   "id": "37ad1f4d",
   "metadata": {},
   "source": [
    "A continuación, verífiquemos el tamaño y el número de elementos que tienen las variables con los datos de interés."
   ]
  },
  {
   "cell_type": "code",
   "execution_count": 8,
   "id": "23d0e90f",
   "metadata": {},
   "outputs": [
    {
     "data": {
      "text/plain": [
       "1"
      ]
     },
     "execution_count": 8,
     "metadata": {},
     "output_type": "execute_result"
    }
   ],
   "source": [
    "dBT.size"
   ]
  },
  {
   "cell_type": "code",
   "execution_count": 9,
   "id": "6c3cc06a",
   "metadata": {},
   "outputs": [
    {
     "data": {
      "text/plain": [
       "(1, 1)"
      ]
     },
     "execution_count": 9,
     "metadata": {},
     "output_type": "execute_result"
    }
   ],
   "source": [
    "dBT.shape"
   ]
  },
  {
   "cell_type": "markdown",
   "id": "f7fabe92",
   "metadata": {},
   "source": [
    "El tamaño del arreglo estructurado es igual al tamaño de la estructura de Matlab, pero por default, Scipy proporciona una objeto bidimensional. Para comprender que ocurre con el tamaño y número de datos, vamos a revisar el contenido de la variable:"
   ]
  },
  {
   "cell_type": "code",
   "execution_count": 10,
   "id": "109f68cc",
   "metadata": {},
   "outputs": [
    {
     "data": {
      "text/plain": [
       "array([[array([[0.41599999],\n",
       "               [0.415     ],\n",
       "               [0.43399999],\n",
       "               ...,\n",
       "               [0.71400002],\n",
       "               [0.70900003],\n",
       "               [0.70500002]])]], dtype=object)"
      ]
     },
     "execution_count": 10,
     "metadata": {},
     "output_type": "execute_result"
    }
   ],
   "source": [
    "dBT"
   ]
  },
  {
   "cell_type": "markdown",
   "id": "47df35ed",
   "metadata": {},
   "source": [
    "Observa que el número de datos almacenados es uno (obtenido con `dBT.size`), pero el objeto tiene dos dimensiones (conocido a partir de `dBT.shape`). Para tener objetos unidimensionales es necesario agregar el parámetro `squeeze_me=True` en el método `loadmat`. \n",
    "\n",
    "Vamos a borrar todas las variables que hemos generado para volver a cargar los datos, pero ahora vamos a obtener arreglos estructurados de una dimensión:"
   ]
  },
  {
   "cell_type": "code",
   "execution_count": 11,
   "id": "9ca49447",
   "metadata": {},
   "outputs": [],
   "source": [
    "del datos, dataBT, dBT"
   ]
  },
  {
   "cell_type": "code",
   "execution_count": 12,
   "id": "5468d992",
   "metadata": {},
   "outputs": [],
   "source": [
    "datos = sio.loadmat('20230719091839', appendmat=True, squeeze_me=True)\n",
    "dBT = datos[\"BottomTrack\"][\"BT_Depth\"]"
   ]
  },
  {
   "cell_type": "markdown",
   "id": "fa7f12fe",
   "metadata": {},
   "source": [
    "Vamos a revisar el tamaño, dimensión, tipo de dato y los valores de la variable `dBT`:"
   ]
  },
  {
   "cell_type": "code",
   "execution_count": 13,
   "id": "d6277634",
   "metadata": {},
   "outputs": [
    {
     "data": {
      "text/plain": [
       "1"
      ]
     },
     "execution_count": 13,
     "metadata": {},
     "output_type": "execute_result"
    }
   ],
   "source": [
    "dBT.size\n"
   ]
  },
  {
   "cell_type": "code",
   "execution_count": 14,
   "id": "0495ea12",
   "metadata": {},
   "outputs": [
    {
     "data": {
      "text/plain": [
       "()"
      ]
     },
     "execution_count": 14,
     "metadata": {},
     "output_type": "execute_result"
    }
   ],
   "source": [
    "dBT.shape"
   ]
  },
  {
   "cell_type": "code",
   "execution_count": 15,
   "id": "8543c3fd",
   "metadata": {},
   "outputs": [
    {
     "data": {
      "text/plain": [
       "dtype('O')"
      ]
     },
     "execution_count": 15,
     "metadata": {},
     "output_type": "execute_result"
    }
   ],
   "source": [
    "dBT.dtype"
   ]
  },
  {
   "cell_type": "code",
   "execution_count": 16,
   "id": "98703d89",
   "metadata": {},
   "outputs": [
    {
     "data": {
      "text/plain": [
       "array(array([0.41599999, 0.415     , 0.43399999, ..., 0.71400002, 0.70900003,\n",
       "       0.70500002]), dtype=object)"
      ]
     },
     "execution_count": 16,
     "metadata": {},
     "output_type": "execute_result"
    }
   ],
   "source": [
    "dBT"
   ]
  },
  {
   "cell_type": "markdown",
   "id": "14130b6e",
   "metadata": {},
   "source": [
    "Podemos identificar que `dBT` tiene una dimensión cero, por ello, Python maneja el arreglo como unidimensional. Para mayor detalle, consulta la sección de <i>Calculation</i> en https://numpy.org/doc/stable/reference/arrays.ndarray.html<br>\n",
    "\n",
    "También se identifica que el tipo de dato continua siendo un objeto. A continuación, vamos a convertir el arreglo \"objeto\" a un arreglo numérico. Para ello, vamos a realizar una copia del arreglo y lo colapsaremos a un arreglo de una dimensión:"
   ]
  },
  {
   "cell_type": "code",
   "execution_count": 17,
   "id": "19f8598b",
   "metadata": {},
   "outputs": [],
   "source": [
    "dBT1d = dBT.flatten()"
   ]
  },
  {
   "cell_type": "markdown",
   "id": "1ea871f8",
   "metadata": {},
   "source": [
    "Revisamos la dimensión del nuevo arreglo:"
   ]
  },
  {
   "cell_type": "code",
   "execution_count": 18,
   "id": "d894058b",
   "metadata": {},
   "outputs": [
    {
     "data": {
      "text/plain": [
       "(1,)"
      ]
     },
     "execution_count": 18,
     "metadata": {},
     "output_type": "execute_result"
    }
   ],
   "source": [
    "dBT1d.shape"
   ]
  },
  {
   "cell_type": "code",
   "execution_count": 19,
   "id": "2cb092ce",
   "metadata": {},
   "outputs": [
    {
     "data": {
      "text/plain": [
       "array([array([0.41599999, 0.415     , 0.43399999, ..., 0.71400002, 0.70900003,\n",
       "              0.70500002])                                                    ],\n",
       "      dtype=object)"
      ]
     },
     "execution_count": 19,
     "metadata": {},
     "output_type": "execute_result"
    }
   ],
   "source": [
    "dBT1d"
   ]
  },
  {
   "cell_type": "markdown",
   "id": "3f874859",
   "metadata": {},
   "source": [
    "Vamos a poner el arreglo de manera vertical (\"arreglo columna\"), después visualizamos el arreglo, así como el tipo de dato que tiene dicho arreglo:"
   ]
  },
  {
   "cell_type": "code",
   "execution_count": 20,
   "id": "b083a82e",
   "metadata": {},
   "outputs": [
    {
     "name": "stdout",
     "output_type": "stream",
     "text": [
      "[[0.41599999 0.415      0.43399999 ... 0.71400002 0.70900003 0.70500002]]\n",
      "Tipo de dato: float64\n"
     ]
    }
   ],
   "source": [
    "dBT1d = np.vstack(dBT1d)\n",
    "print(dBT1d)\n",
    "print('Tipo de dato:', dBT1d.dtype)"
   ]
  },
  {
   "cell_type": "markdown",
   "id": "1eeccbb8",
   "metadata": {},
   "source": [
    "Para finalizar vamos a crear un arreglo \"fila\", con el número de datos que tiene el arreglo:"
   ]
  },
  {
   "cell_type": "code",
   "execution_count": 21,
   "id": "b974b9db",
   "metadata": {},
   "outputs": [],
   "source": [
    "del dBT\n",
    "dBT = dBT1d.reshape(dBT1d.size)"
   ]
  },
  {
   "cell_type": "markdown",
   "id": "c5c83c3f",
   "metadata": {},
   "source": [
    "El  arreglo, tamaño, tipo de dato y dimensión son:"
   ]
  },
  {
   "cell_type": "code",
   "execution_count": 22,
   "id": "f1ce249d",
   "metadata": {},
   "outputs": [
    {
     "data": {
      "text/plain": [
       "array([0.41599999, 0.415     , 0.43399999, ..., 0.71400002, 0.70900003,\n",
       "       0.70500002])"
      ]
     },
     "execution_count": 22,
     "metadata": {},
     "output_type": "execute_result"
    }
   ],
   "source": [
    "dBT"
   ]
  },
  {
   "cell_type": "code",
   "execution_count": 23,
   "id": "fa4dd572",
   "metadata": {},
   "outputs": [
    {
     "name": "stdout",
     "output_type": "stream",
     "text": [
      "4321 datos\n",
      "(4321,)\n",
      "Tipos de datos: float64\n",
      "Tipo de variable: <class 'numpy.ndarray'>\n"
     ]
    }
   ],
   "source": [
    "print(dBT.size, 'datos')\n",
    "print(dBT.shape)\n",
    "print('Tipos de datos:', dBT.dtype)\n",
    "print('Tipo de variable:', type(dBT))"
   ]
  },
  {
   "cell_type": "markdown",
   "id": "270e452a",
   "metadata": {},
   "source": [
    "Vamos a importar los datos registrados por el sensor vertical de profundidad del M9:"
   ]
  },
  {
   "cell_type": "code",
   "execution_count": 24,
   "id": "a59c5f04",
   "metadata": {},
   "outputs": [],
   "source": [
    "dvb = datos[\"BottomTrack\"][\"VB_Depth\"]\n",
    "dVb = np.vstack(dvb.flatten())\n",
    "dVB = dVb.reshape(dVb.size)\n",
    "del dvb, dVb"
   ]
  },
  {
   "cell_type": "markdown",
   "id": "2e7cc651",
   "metadata": {},
   "source": [
    "También, vamos a extraer las coordenadas geográficas de los puntos muestreados (coordenadas espaciales x y y, o latitud y longitud) y almacenarlos en sus respectivas variables. Las coordenadas se encuentran en la etiqueta GPS y en las subestructuras 'UTM', 'longitude' y 'latitude'."
   ]
  },
  {
   "cell_type": "code",
   "execution_count": 25,
   "id": "cd12a51a",
   "metadata": {},
   "outputs": [],
   "source": [
    "longi = datos[\"GPS\"][\"Longitude\"]\n",
    "longit = np.vstack(longi.flatten())\n",
    "lon = longit.reshape(longit.size)\n",
    "del longi, longit\n",
    "\n",
    "latid = datos[\"GPS\"][\"Latitude\"]\n",
    "lati = np.vstack(latid.flatten())\n",
    "lat = lati.reshape(lati.size)\n",
    "del latid, lati\n",
    "\n",
    "utmd = datos[\"GPS\"][\"UTM\"]\n",
    "utm1 = np.stack(utmd.flatten())\n",
    "utm = utm1.reshape(utm1.size)\n",
    "del utmd, utm1"
   ]
  },
  {
   "cell_type": "markdown",
   "id": "bfd69704",
   "metadata": {},
   "source": [
    "En el caso de las coordenadas UTM, los datos se encontraban en un arreglo con dos columnas, pero al momento de convertir el arreglo estructurado (objeto) a un arreglo de una columna por n líneas, el arreglo que obtuvimos fue unidimensional, por tal razón, es necesario \"filtrar\" las coordenadas x y y de dicho arreglo para separar los valores de x y y."
   ]
  },
  {
   "cell_type": "code",
   "execution_count": 26,
   "id": "21ca28ce",
   "metadata": {},
   "outputs": [],
   "source": [
    "yind = np.where(utm > 1000000)\n",
    "y = utm[yind]\n",
    "xind = np.where(utm < 600000)\n",
    "x = utm[xind]\n",
    "del yind, xind\n",
    "\n",
    "num_datos = lon.size"
   ]
  },
  {
   "cell_type": "markdown",
   "id": "7c8bc293",
   "metadata": {},
   "source": [
    "A manera de revisión de los valores de la profundidad, vamos a identificar que no existan registros de la profundidad del Bottom Tracking que sean cero. Para ello, localizar los indices de los registros donde existe un cero, utilizaremos la función `np.where`; esta función nos dará como resultado un tupla y con los valores de los indices que cumplen la condicional que hemos impuesto. Recuerda que en los registros, la profundidad es positiva, es decir, valores batimétricos positivos y valores topográficos, son negativos."
   ]
  },
  {
   "cell_type": "code",
   "execution_count": 27,
   "id": "bb3d78d9",
   "metadata": {},
   "outputs": [],
   "source": [
    "dat_zero = np.where(dBT <= 0)"
   ]
  },
  {
   "cell_type": "markdown",
   "id": "81aaf4e5",
   "metadata": {},
   "source": [
    "Vamos a desplegar un aviso de advertencia que indique cuando los datos contienen ceros. Si este caso se presenta entonces, usando los indices, eliminaremos todos los registros con valores de cero o topográficos.\n",
    "\n",
    "Teniendo los indices de los registros con los valores que no deseamos considerar, a continuación vamos a hacer un arreglo que contenga los valores de los indices de nuestro arreglo a depurar (usando `np.arange`). Para eliminar los registros, crearemos una máscara con la función `np.isin`; esta función generar una máscara booleana donde se identifican los elementos que deseamos ubicar en un arreglo."
   ]
  },
  {
   "cell_type": "code",
   "execution_count": 28,
   "id": "e1d6f16f",
   "metadata": {},
   "outputs": [
    {
     "name": "stdout",
     "output_type": "stream",
     "text": [
      "El archivo 20230719091839.mat contiene 4321 registros.\n",
      "Sin embargo:\n",
      "El archivo contiene 8 registros con ceros en la profundidad,\n",
      "estos registros no serán exportados!\n",
      "Despues del filtrado se tienen 4313 registros.\n",
      "\n"
     ]
    }
   ],
   "source": [
    "print('El archivo {}.mat contiene {} registros.'.format(nfile, num_datos))\n",
    "if dat_zero[0].size > 0:\n",
    "    print('Sin embargo:')\n",
    "    print('El archivo contiene {} registros con ceros en la profundidad,'.format(dat_zero[0].size))\n",
    "    print('estos registros no serán exportados!')\n",
    "    element = np.arange(num_datos)\n",
    "    lon = lon[~np.isin(element, dat_zero)]\n",
    "    lat = lat[~np.isin(element, dat_zero)]\n",
    "    x = x[~np.isin(element, dat_zero)]\n",
    "    y = y[~np.isin(element, dat_zero)]\n",
    "    dBT = dBT[~np.isin(element, dat_zero)]\n",
    "    dVB = dVB[~np.isin(element, dat_zero)]\n",
    "    print('Despues del filtrado se tienen {} registros.\\n'.format(dBT.size))"
   ]
  },
  {
   "cell_type": "markdown",
   "id": "f7fa40be",
   "metadata": {},
   "source": [
    "Para tener una idea de los datos que estamos manejando, visualizamos la siguiente información que se encuentra relacionada a los datos que estamos usando:"
   ]
  },
  {
   "cell_type": "code",
   "execution_count": 29,
   "id": "c77e4147",
   "metadata": {},
   "outputs": [
    {
     "name": "stdout",
     "output_type": "stream",
     "text": [
      "Información:\n",
      "Profundidad min:    0.274 m\n",
      "Profundidad max:    2.689 m\n",
      "Registros con profundidad de 0 m a 1 m: 3345\n",
      "Registros con profundidad de 1 m a 2 m: 834\n",
      "Registros con profundidad de 2 m a 3 m: 134\n",
      "\n"
     ]
    },
    {
     "data": {
      "image/png": "[encoded data removed]",
      "text/plain": [
       "<Figure size 576x396 with 1 Axes>"
      ]
     },
     "metadata": {},
     "output_type": "display_data"
    },
    {
     "data": {
      "image/png": "[encoded data removed]",
      "text/plain": [
       "<Figure size 576x396 with 1 Axes>"
      ]
     },
     "metadata": {},
     "output_type": "display_data"
    }
   ],
   "source": [
    "print('Información:')\n",
    "print('Profundidad min: {:8.3f} m'.format(np.min(dBT)))\n",
    "print('Profundidad max: {:8.3f} m'.format(np.max(dBT)))\n",
    "z_range = np.arange(0, np.ceil(np.max(dBT)), 1, dtype=int)\n",
    "n_depths = np.zeros(z_range.size)\n",
    "etiq = []\n",
    "\n",
    "for i in range(z_range.size):\n",
    "    if i < z_range.size-1:\n",
    "        temp = np.logical_and((dBT >= z_range[i]), (dBT < z_range[i+1]))\n",
    "        n_depths[i] = np.extract(temp, dBT).size\n",
    "        print('Registros con profundidad de {} m a {} m: {}'.format(z_range[i], z_range[i+1], int(n_depths[i])))\n",
    "        etiq.append(str(z_range[i])+' a '+ str(z_range[i+1]))\n",
    "    else:\n",
    "        temp = np.where(dBT > z_range[i])\n",
    "        n_depths[i] = temp[0].size\n",
    "        print('Registros con profundidad de {} m a {} m: {}\\n'.format(z_range[i], z_range[i]+1, int(n_depths[i])))\n",
    "        etiq.append(str(z_range[i])+' a '+ str(z_range[i]+1))\n",
    "\n",
    "plt.style.use('seaborn')\n",
    "plt.figure()\n",
    "plt.plot(-dBT, color='r')\n",
    "plt.xlabel('No. de registro')\n",
    "plt.ylabel('Profundidad (m)')\n",
    "plt.xlim([0, dBT.size])\n",
    "plt.savefig(fname=nfile+'_Rec.png', dpi='figure', format='png')\n",
    "\n",
    "plt.figure()\n",
    "plt.bar(etiq, n_depths)\n",
    "plt.xlabel('Profundidades (m)')\n",
    "plt.ylabel('Datos')\n",
    "plt.savefig(fname=nfile+'_Bar.png', dpi='figure', format='png')"
   ]
  },
  {
   "cell_type": "markdown",
   "id": "5d12a9f4",
   "metadata": {},
   "source": [
    "A manera de respaldo, vamos a exportar todos los datos que fueron importados del archivo mat a un archivo del tipo csv, que puede abrirse con un programa de hoja de cálculo electrónico o un programa que permita abrir archivos de texto plano. La exportación se realizará con el módulo Pandas. \n",
    "\n",
    "Por tal razón, vamos almacenar todos los arreglos que nos interesan en un DataFrame de Pandas:"
   ]
  },
  {
   "cell_type": "code",
   "execution_count": 30,
   "id": "d3c99a7f",
   "metadata": {},
   "outputs": [],
   "source": [
    "dataGEO = pd.DataFrame({'lon(°)':lon, 'lat(°)':lat, 'x(m)':x, 'y(m)':y, 'BT(m)':dBT, 'VB(m)':dVB})\n",
    "dataUTM = pd.DataFrame({'x(m)':x, 'y(m)':y, 'BT(m)':dBT, 'VB(m)':dVB})"
   ]
  },
  {
   "cell_type": "code",
   "execution_count": 31,
   "id": "f0398878",
   "metadata": {},
   "outputs": [
    {
     "name": "stdout",
     "output_type": "stream",
     "text": [
      "Revisando el orden de los datos que seran exportados:\n",
      "      lon(°)     lat(°)           x(m)          y(m)  BT(m)  VB(m)\n",
      "0 -92.847107  15.203079  516421.539201  1.680793e+06  0.416  0.412\n",
      "1 -92.847107  15.203079  516421.539201  1.680793e+06  0.415  0.437\n",
      "2 -92.847107  15.203079  516421.539201  1.680793e+06  0.434  0.435\n",
      "3 -92.847107  15.203079  516421.539201  1.680793e+06  0.436  0.000\n",
      "4 -92.847107  15.203079  516421.539201  1.680793e+06  0.419  0.000\n",
      ".\n",
      ".\n",
      ".\n",
      "\n",
      "         lon(°)     lat(°)           x(m)          y(m)  BT(m)  VB(m)\n",
      "4308 -92.848697  15.202461  516250.850033  1.680725e+06  0.698  0.698\n",
      "4309 -92.848704  15.202469  516250.027033  1.680726e+06  0.703  0.697\n",
      "4310 -92.848712  15.202476  516249.168033  1.680727e+06  0.714  0.720\n",
      "4311 -92.848721  15.202484  516248.272033  1.680727e+06  0.709  0.711\n",
      "4312 -92.848729  15.202491  516247.332033  1.680728e+06  0.705  0.710\n",
      "\n",
      "            x(m)          y(m)  BT(m)  VB(m)\n",
      "0  516421.539201  1.680793e+06  0.416  0.412\n",
      "1  516421.539201  1.680793e+06  0.415  0.437\n",
      "2  516421.539201  1.680793e+06  0.434  0.435\n",
      "3  516421.539201  1.680793e+06  0.436  0.000\n",
      "4  516421.539201  1.680793e+06  0.419  0.000\n",
      ".\n",
      ".\n",
      ".\n",
      "\n",
      "               x(m)          y(m)  BT(m)  VB(m)\n",
      "4308  516250.850033  1.680725e+06  0.698  0.698\n",
      "4309  516250.027033  1.680726e+06  0.703  0.697\n",
      "4310  516249.168033  1.680727e+06  0.714  0.720\n",
      "4311  516248.272033  1.680727e+06  0.709  0.711\n",
      "4312  516247.332033  1.680728e+06  0.705  0.710\n",
      "\n"
     ]
    }
   ],
   "source": [
    "print('Revisando el orden de los datos que seran exportados:')\n",
    "# Se muestran solo el inicio y final de los datos\n",
    "print(dataGEO.head())\n",
    "print('.\\n.\\n.\\n')\n",
    "print(dataGEO.tail())\n",
    "print('')\n",
    "print(dataUTM.head())\n",
    "print('.\\n.\\n.\\n')\n",
    "print(dataUTM.tail())\n",
    "print('')"
   ]
  },
  {
   "cell_type": "markdown",
   "id": "5c0786c8",
   "metadata": {},
   "source": [
    "A continuación, vamos a exportar los DataFrames hacia archivos csv:"
   ]
  },
  {
   "cell_type": "code",
   "execution_count": 32,
   "id": "72d1d4f7",
   "metadata": {},
   "outputs": [],
   "source": [
    "dataGEO.to_csv(nfile+'_GEO.csv', header=True, index=False)\n",
    "dataUTM.to_csv(nfile+'_UTM.csv', header=True, index=False)"
   ]
  },
  {
   "cell_type": "markdown",
   "id": "38afa7ea",
   "metadata": {},
   "source": [
    "Con las siguientes líneas de código se va a generar un shapefile, que podemos usar para visualizar los puntos en cualquier software GIS. "
   ]
  },
  {
   "cell_type": "code",
   "execution_count": 33,
   "id": "e0d7031f",
   "metadata": {},
   "outputs": [
    {
     "name": "stdout",
     "output_type": "stream",
     "text": [
      "         Lon        Lat Etiqueta\n",
      "0 -92.847107  15.203079       P1\n",
      "1 -92.847107  15.203079       P2\n",
      "2 -92.847107  15.203079       P3\n",
      "3 -92.847107  15.203079       P4\n",
      "4 -92.847107  15.203079       P5\n",
      ".\n",
      ".\n",
      ".\n",
      "\n",
      "            Lon        Lat Etiqueta\n",
      "4308 -92.848697  15.202461    P4309\n",
      "4309 -92.848704  15.202469    P4310\n",
      "4310 -92.848712  15.202476    P4311\n",
      "4311 -92.848721  15.202484    P4312\n",
      "4312 -92.848729  15.202491    P4313\n",
      "\n",
      "Los puntos se han enviado a un archivo SHP.\n"
     ]
    }
   ],
   "source": [
    "del datos\n",
    "# Creando el arreglo para las etiquetas de los puntos (ver el comentario de la función points2layer)\n",
    "eti = []\n",
    "for i in range(lon.size):\n",
    "    eti.append('P' + str(i+1))\n",
    "    \n",
    "# Creando el DataFrame con la ubicacion de los puntos\n",
    "dataGEO2 = pd.DataFrame({'Lon':lon, 'Lat':lat, 'Etiqueta':eti})\n",
    "print(dataGEO2.head())\n",
    "print('.\\n.\\n.\\n')\n",
    "print(dataGEO2.tail())\n",
    "print('')\n",
    "\n",
    "# Generando el archivo CSV con las coordenadas de los puntos\n",
    "dataGEO2.to_csv(nfile + '_GEO2.csv', header=True, index=False)\n",
    "\n",
    "# Creando el archivo shapefile\n",
    "points2layer(nfile + '_GEO2.csv', nfile + '_GEOPoints', 'WGS84')"
   ]
  },
  {
   "cell_type": "markdown",
   "id": "81801393",
   "metadata": {},
   "source": [
    "Por otra parte, puede existir el caso donde no es posible usar algún software de GIS para visualizar la ubicación de los puntos batimétricos; por tal razón, vamos a exportar las coordenadas geográficas de los puntos de la batimetría a un archivo kml para identificar el área de interés en Google Earth."
   ]
  },
  {
   "cell_type": "code",
   "execution_count": 34,
   "id": "41b76a3c",
   "metadata": {},
   "outputs": [
    {
     "name": "stdout",
     "output_type": "stream",
     "text": [
      "Los puntos se han enviado a un archivo kml\n"
     ]
    }
   ],
   "source": [
    "# Abriendo la instancia kml\n",
    "kml = simplekml.Kml()\n",
    "\n",
    "for i in range(dataGEO2.shape[0]):\n",
    "    pto = kml.newpoint()\n",
    "    pto.name = dataGEO2['Etiqueta'][i]\n",
    "    pto.coords =[(dataGEO2['Lon'][i], dataGEO2['Lat'][i])]\n",
    "\n",
    "# Exportando la instancia kml a un archivo\n",
    "kml.save(nfile+'.kml')\n",
    "print('Los puntos se han enviado a un archivo kml')"
   ]
  },
  {
   "cell_type": "markdown",
   "id": "d4983bca",
   "metadata": {},
   "source": [
    "Usando las coordenadas espaciales, vamos a determinar los límites del área de interés:"
   ]
  },
  {
   "cell_type": "code",
   "execution_count": 35,
   "id": "08d27715",
   "metadata": {},
   "outputs": [],
   "source": [
    "# Coordenadas geograficas\n",
    "lomin = dataGEO[\"lon(°)\"].min()\n",
    "lomax = dataGEO[\"lon(°)\"].max()\n",
    "\n",
    "lamin = dataGEO[\"lat(°)\"].min()\n",
    "lamax = dataGEO[\"lat(°)\"].max()\n",
    "\n",
    "# Coordenadas UTM\n",
    "xmin = dataUTM[\"x(m)\"].min()\n",
    "xmax = dataUTM[\"x(m)\"].max()\n",
    "\n",
    "ymin = dataUTM[\"y(m)\"].min()\n",
    "ymax = dataUTM[\"y(m)\"].max()"
   ]
  },
  {
   "cell_type": "markdown",
   "id": "372eccce",
   "metadata": {},
   "source": [
    "Nuestra área de interés se encuentra delimitada por los siguientes vértices:"
   ]
  },
  {
   "cell_type": "code",
   "execution_count": 36,
   "id": "07d34196",
   "metadata": {},
   "outputs": [
    {
     "name": "stdout",
     "output_type": "stream",
     "text": [
      "\n",
      "Bordes del area de interes, en coordenadas geograficas:\n",
      "Esquina Inferior Izquierda: -92.84574730157526, 15.198456381764666\n",
      "Esquina Inferior Derecha: -92.85382247726409, 15.198456381764666\n",
      "Esquina Superior Izquierda: -92.84574730157526, 15.204652475473823\n",
      "Esquina Superior Derecha: -92.85382247726409, 15.204652475473823\n"
     ]
    }
   ],
   "source": [
    "# En coordenadas geográficas\n",
    "print('\\nBordes del area de interes, en coordenadas geograficas:')\n",
    "print('Esquina Inferior Izquierda: {}, {}'.format(lomax, lamin))\n",
    "print('Esquina Inferior Derecha: {}, {}'.format(lomin, lamin))\n",
    "print('Esquina Superior Izquierda: {}, {}'.format(lomax, lamax))\n",
    "print('Esquina Superior Derecha: {}, {}'.format(lomin, lamax))"
   ]
  },
  {
   "cell_type": "markdown",
   "id": "f8a26ae4",
   "metadata": {},
   "source": [
    "Calculemos la distancia total de 2 de los vértices:"
   ]
  },
  {
   "cell_type": "code",
   "execution_count": 37,
   "id": "b81f760a",
   "metadata": {},
   "outputs": [],
   "source": [
    "llon = lomax - lomin\n",
    "llat = lamax - lamin\n",
    "\n",
    "lx = xmax - xmin\n",
    "ly = ymax - ymin"
   ]
  },
  {
   "cell_type": "code",
   "execution_count": 38,
   "id": "3652c889",
   "metadata": {},
   "outputs": [
    {
     "name": "stdout",
     "output_type": "stream",
     "text": [
      "\n",
      "Dimensiones del area muestreada:\n",
      "Distancia horizontal: 0.008075175688830427° ó  867.636 m\n",
      "Distancia vertical: 0.006196093709156969° ó  685.122 m\n"
     ]
    }
   ],
   "source": [
    "print('\\nDimensiones del area muestreada:')\n",
    "print('Distancia horizontal: {}° ó {:8.3f} m'.format(llon, lx))\n",
    "print('Distancia vertical: {}° ó {:8.3f} m'.format(llat, ly))"
   ]
  }
 ],
 "metadata": {
  "kernelspec": {
   "display_name": "Python 3 (ipykernel)",
   "language": "python",
   "name": "python3"
  },
  "language_info": {
   "codemirror_mode": {
    "name": "ipython",
    "version": 3
   },
   "file_extension": ".py",
   "mimetype": "text/x-python",
   "name": "python",
   "nbconvert_exporter": "python",
   "pygments_lexer": "ipython3",
   "version": "3.9.10"
  }
 },
 "nbformat": 4,
 "nbformat_minor": 5
}
