{
 "cells": [
  {
   "cell_type": "code",
   "execution_count": 1,
   "id": "d1b91ec5",
   "metadata": {},
   "outputs": [
    {
     "data": {
      "text/plain": [
       "'\\nScript que grafica la oscilación entre 1 y -1 de la función seno\\nCreated on Tue Oct 18 13:00:50 2022\\n@author: Gabriel Ruiz\\n'"
      ]
     },
     "execution_count": 1,
     "metadata": {},
     "output_type": "execute_result"
    }
   ],
   "source": [
    "\"\"\"\n",
    "Script que grafica la oscilación entre 1 y -1 de la función seno\n",
    "Created on Tue Oct 18 13:00:50 2022\n",
    "@author: Gabriel Ruiz\n",
    "\"\"\""
   ]
  },
  {
   "cell_type": "markdown",
   "id": "2996a185",
   "metadata": {},
   "source": [
    "Importación de los modulos"
   ]
  },
  {
   "cell_type": "code",
   "execution_count": 2,
   "id": "7b67d68a",
   "metadata": {},
   "outputs": [],
   "source": [
    "import numpy as np\n",
    "import matplotlib.pyplot as plt\n",
    "import matplotlib.lines as lines"
   ]
  },
  {
   "cell_type": "markdown",
   "id": "041fe1d2",
   "metadata": {},
   "source": [
    "Inputs"
   ]
  },
  {
   "cell_type": "code",
   "execution_count": 3,
   "id": "3f2afe5e",
   "metadata": {},
   "outputs": [],
   "source": [
    "A = 1.0"
   ]
  },
  {
   "cell_type": "markdown",
   "id": "683851f8",
   "metadata": {},
   "source": [
    "Estableciendo el arreglo con los valores de los angulos que se graficarán."
   ]
  },
  {
   "cell_type": "code",
   "execution_count": 4,
   "id": "3675b411",
   "metadata": {},
   "outputs": [],
   "source": [
    "theta = np.arange(0, 360+1, 10)*np.pi/180."
   ]
  },
  {
   "cell_type": "markdown",
   "id": "f619bc82",
   "metadata": {},
   "source": [
    "Coordenadas del círculo que usaremos para ver la oscilación del ángulo."
   ]
  },
  {
   "cell_type": "code",
   "execution_count": 5,
   "id": "0480a999",
   "metadata": {},
   "outputs": [],
   "source": [
    "a = A * np.cos(theta)\n",
    "b = A * np.sin(theta)"
   ]
  },
  {
   "cell_type": "markdown",
   "id": "94699364",
   "metadata": {},
   "source": [
    "## Graficación\n",
    "Para usar LaTeX en las graficas."
   ]
  },
  {
   "cell_type": "code",
   "execution_count": 6,
   "id": "d0cc422e",
   "metadata": {},
   "outputs": [],
   "source": [
    "plt.rcParams['text.usetex']='True'"
   ]
  },
  {
   "cell_type": "markdown",
   "id": "29250bfe",
   "metadata": {},
   "source": [
    "Específicando el estilo de graficación."
   ]
  },
  {
   "cell_type": "code",
   "execution_count": 7,
   "id": "e9623966",
   "metadata": {},
   "outputs": [],
   "source": [
    "plt.style.use('seaborn-notebook')"
   ]
  },
  {
   "cell_type": "markdown",
   "id": "89951620",
   "metadata": {},
   "source": [
    "Abriendo la figura."
   ]
  },
  {
   "cell_type": "code",
   "execution_count": 8,
   "id": "c5dca73b",
   "metadata": {},
   "outputs": [
    {
     "data": {
      "image/png": "[encoded data removed]",
      "text/plain": [
       "<Figure size 648x432 with 2 Axes>"
      ]
     },
     "metadata": {
      "needs_background": "light"
     },
     "output_type": "display_data"
    }
   ],
   "source": [
    "fig, (ax1, ax2) = plt.subplots(1,2, figsize=[9, 6])"
   ]
  },
  {
   "cell_type": "markdown",
   "id": "ea08e8dd",
   "metadata": {},
   "source": [
    "Vamos a editar las características de los ejes donde vamos a graficar la función seno."
   ]
  },
  {
   "cell_type": "code",
   "execution_count": 9,
   "id": "aa3b4fd3",
   "metadata": {},
   "outputs": [
    {
     "data": {
      "text/plain": [
       "[Text(0, 0, '0'), Text(2, 0, '120'), Text(4, 0, '230'), Text(6, 0, '350')]"
      ]
     },
     "execution_count": 9,
     "metadata": {},
     "output_type": "execute_result"
    }
   ],
   "source": [
    "ax2.set_ylim((-1, 1))\n",
    "ax2.plot(theta, np.zeros((len(theta), 1)), color='k', linestyle='-', \\\n",
    "            linewidth=0.5)\n",
    "ax2.set_ylabel('Amplitud')\n",
    "ax2.set_xlabel(r'$\\theta$'+' (°)')\n",
    "ax2.set_xlim((theta[0], theta[-1]))\n",
    "ax2.set_xticks([0, 2, 4, 6])\n",
    "ax2.set_xticklabels(['0', '120', '230', '350'])"
   ]
  },
  {
   "cell_type": "markdown",
   "id": "981a8e30",
   "metadata": {},
   "source": [
    "Vamos a graficar la función seno para cada ángulo que se estableció."
   ]
  },
  {
   "cell_type": "code",
   "execution_count": 10,
   "id": "cf530b8e",
   "metadata": {},
   "outputs": [
    {
     "name": "stdout",
     "output_type": "stream",
     "text": [
      "Graficando el angulo: 0.000000\n",
      "Graficando el angulo: 0.174533\n",
      "Graficando el angulo: 0.349066\n",
      "Graficando el angulo: 0.523599\n",
      "Graficando el angulo: 0.698132\n",
      "Graficando el angulo: 0.872665\n",
      "Graficando el angulo: 1.047198\n",
      "Graficando el angulo: 1.221730\n",
      "Graficando el angulo: 1.396263\n",
      "Graficando el angulo: 1.570796\n",
      "Graficando el angulo: 1.745329\n",
      "Graficando el angulo: 1.919862\n",
      "Graficando el angulo: 2.094395\n",
      "Graficando el angulo: 2.268928\n",
      "Graficando el angulo: 2.443461\n",
      "Graficando el angulo: 2.617994\n",
      "Graficando el angulo: 2.792527\n",
      "Graficando el angulo: 2.967060\n",
      "Graficando el angulo: 3.141593\n",
      "Graficando el angulo: 3.316126\n",
      "Graficando el angulo: 3.490659\n",
      "Graficando el angulo: 3.665191\n",
      "Graficando el angulo: 3.839724\n",
      "Graficando el angulo: 4.014257\n",
      "Graficando el angulo: 4.188790\n",
      "Graficando el angulo: 4.363323\n",
      "Graficando el angulo: 4.537856\n",
      "Graficando el angulo: 4.712389\n",
      "Graficando el angulo: 4.886922\n",
      "Graficando el angulo: 5.061455\n",
      "Graficando el angulo: 5.235988\n",
      "Graficando el angulo: 5.410521\n",
      "Graficando el angulo: 5.585054\n",
      "Graficando el angulo: 5.759587\n",
      "Graficando el angulo: 5.934119\n",
      "Graficando el angulo: 6.108652\n",
      "Graficando el angulo: 6.283185\n"
     ]
    },
    {
     "data": {
      "text/plain": [
       "<Figure size 576x396 with 0 Axes>"
      ]
     },
     "metadata": {},
     "output_type": "display_data"
    }
   ],
   "source": [
    "for i in range(len(theta)):\n",
    "    print('Graficando el angulo: {0:5f}'.format(theta[i]))\n",
    "    \n",
    "    # Borrando el eje 1.\n",
    "    ax1.cla()\n",
    "    \n",
    "    # Dibujando el circulo de radio A.\n",
    "    ax1.plot(a, b, color='g')\n",
    "    ax1.set_aspect('equal')\n",
    "    ax1.axis('off')\n",
    "\n",
    "    # Dibujando las lineas de los cuadrantes.\n",
    "    ax1.add_artist(lines.Line2D([0, 0], [-1, 1], color='gray', \\\n",
    "                   linewidth=1))\n",
    "    ax1.add_artist(lines.Line2D([-1, 1], [0, 0], color='gray', \\\n",
    "                   linewidth=1))\n",
    "    \n",
    "    # Dibujando la línea y el punto que se mueven.\n",
    "    ax1.plot(a[i], b[i], marker='o', color='red')\n",
    "    ax1.plot([0, a[i]], [0, b[i]], color='purple')\n",
    "    ax1.annotate(r'$\\theta = $'+str(theta[i]*(180./np.pi))+'°', \\\n",
    "                 xy=(0.78, 0.78), xycoords='data', fontsize=10)\n",
    "\n",
    "    # Dibujando los puntos en el plano cartesiano.\n",
    "    ax2.plot(theta[i], b[i], marker='o', color='red')\n",
    "\n",
    "    # Importando la figura hacia un archivo.\n",
    "    plt.savefig('funcionSeno0'+str(i)+'.png')\n",
    "\n",
    "    plt.draw()"
   ]
  }
 ],
 "metadata": {
  "jupytext": {
   "cell_metadata_filter": "-all",
   "encoding": "# -*- coding: utf-8 -*-",
   "notebook_metadata_filter": "-all"
  },
  "kernelspec": {
   "display_name": "Python 3 (ipykernel)",
   "language": "python",
   "name": "python3"
  },
  "language_info": {
   "codemirror_mode": {
    "name": "ipython",
    "version": 3
   },
   "file_extension": ".py",
   "mimetype": "text/x-python",
   "name": "python",
   "nbconvert_exporter": "python",
   "pygments_lexer": "ipython3",
   "version": "3.8.8"
  }
 },
 "nbformat": 4,
 "nbformat_minor": 5
}
