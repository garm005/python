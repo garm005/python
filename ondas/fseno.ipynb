{
 "cells": [
  {
   "cell_type": "markdown",
   "id": "0da9b662",
   "metadata": {},
   "source": [
    "Script que me permite graficar la función seno, proporcionando la amplitud de la "
   ]
  },
  {
   "cell_type": "code",
   "execution_count": 1,
   "id": "9f027323",
   "metadata": {},
   "outputs": [],
   "source": [
    "import numpy as np\n",
    "import matplotlib.pyplot as plt"
   ]
  },
  {
   "cell_type": "markdown",
   "id": "9f93174a",
   "metadata": {},
   "source": [
    "Inputs (A = amplitud de la onda, instang = intervalo del ángulos a considerar):"
   ]
  },
  {
   "cell_type": "code",
   "execution_count": 2,
   "id": "038150a1",
   "metadata": {},
   "outputs": [],
   "source": [
    "A = 5.0\n",
    "intang = 360"
   ]
  },
  {
   "cell_type": "markdown",
   "id": "b63a1be2",
   "metadata": {},
   "source": [
    "Determinación de los ángulos:"
   ]
  },
  {
   "cell_type": "code",
   "execution_count": 3,
   "id": "2f254d8d",
   "metadata": {},
   "outputs": [],
   "source": [
    "theta = np.arange(0, intang+1, 10)\n",
    "thetarad = theta*(np.pi/180.)"
   ]
  },
  {
   "cell_type": "markdown",
   "id": "8265cc6d",
   "metadata": {},
   "source": [
    "Cálculo de la función seno:"
   ]
  },
  {
   "cell_type": "code",
   "execution_count": 4,
   "id": "03ff4081",
   "metadata": {},
   "outputs": [],
   "source": [
    "sen = A * np.sin(thetarad)"
   ]
  },
  {
   "cell_type": "markdown",
   "id": "0b15adcb",
   "metadata": {},
   "source": [
    "Impresión de los resultados:"
   ]
  },
  {
   "cell_type": "code",
   "execution_count": 5,
   "id": "5b7f4522",
   "metadata": {},
   "outputs": [
    {
     "name": "stdout",
     "output_type": "stream",
     "text": [
      "i\t\tTheta\t\t\tAngulo(rad)\t\t\tAmplitud\n",
      "   0\t\t   0\t\t0.000000\t\t 0.000000\n",
      "   1\t\t  10\t\t0.174533\t\t 0.868241\n",
      "   2\t\t  20\t\t0.349066\t\t 1.710101\n",
      "   3\t\t  30\t\t0.523599\t\t 2.500000\n",
      "   4\t\t  40\t\t0.698132\t\t 3.213938\n",
      "   5\t\t  50\t\t0.872665\t\t 3.830222\n",
      "   6\t\t  60\t\t1.047198\t\t 4.330127\n",
      "   7\t\t  70\t\t1.221730\t\t 4.698463\n",
      "   8\t\t  80\t\t1.396263\t\t 4.924039\n",
      "   9\t\t  90\t\t1.570796\t\t 5.000000\n",
      "  10\t\t 100\t\t1.745329\t\t 4.924039\n",
      "  11\t\t 110\t\t1.919862\t\t 4.698463\n",
      "  12\t\t 120\t\t2.094395\t\t 4.330127\n",
      "  13\t\t 130\t\t2.268928\t\t 3.830222\n",
      "  14\t\t 140\t\t2.443461\t\t 3.213938\n",
      "  15\t\t 150\t\t2.617994\t\t 2.500000\n",
      "  16\t\t 160\t\t2.792527\t\t 1.710101\n",
      "  17\t\t 170\t\t2.967060\t\t 0.868241\n",
      "  18\t\t 180\t\t3.141593\t\t 0.000000\n",
      "  19\t\t 190\t\t3.316126\t\t -0.868241\n",
      "  20\t\t 200\t\t3.490659\t\t -1.710101\n",
      "  21\t\t 210\t\t3.665191\t\t -2.500000\n",
      "  22\t\t 220\t\t3.839724\t\t -3.213938\n",
      "  23\t\t 230\t\t4.014257\t\t -3.830222\n",
      "  24\t\t 240\t\t4.188790\t\t -4.330127\n",
      "  25\t\t 250\t\t4.363323\t\t -4.698463\n",
      "  26\t\t 260\t\t4.537856\t\t -4.924039\n",
      "  27\t\t 270\t\t4.712389\t\t -5.000000\n",
      "  28\t\t 280\t\t4.886922\t\t -4.924039\n",
      "  29\t\t 290\t\t5.061455\t\t -4.698463\n",
      "  30\t\t 300\t\t5.235988\t\t -4.330127\n",
      "  31\t\t 310\t\t5.410521\t\t -3.830222\n",
      "  32\t\t 320\t\t5.585054\t\t -3.213938\n",
      "  33\t\t 330\t\t5.759587\t\t -2.500000\n",
      "  34\t\t 340\t\t5.934119\t\t -1.710101\n",
      "  35\t\t 350\t\t6.108652\t\t -0.868241\n",
      "  36\t\t 360\t\t6.283185\t\t -0.000000\n"
     ]
    }
   ],
   "source": [
    "print('i\\t\\tTheta\\t\\t\\tAngulo(rad)\\t\\t\\tAmplitud')\n",
    "for i in range(len(theta)):\n",
    "    print('{0:4d}\\t\\t{1:4d}\\t\\t{2:6f}\\t\\t {3:6f}'.format(i, theta[i], \\\n",
    "            thetarad[i], sen[i]))"
   ]
  },
  {
   "cell_type": "markdown",
   "id": "ca977abc",
   "metadata": {},
   "source": [
    "Graficación:"
   ]
  },
  {
   "cell_type": "code",
   "execution_count": 6,
   "id": "fcd6c058",
   "metadata": {},
   "outputs": [
    {
     "data": {
      "image/png": "[encoded data removed]",
      "text/plain": [
       "<Figure size 576x396 with 1 Axes>"
      ]
     },
     "metadata": {
      "needs_background": "light"
     },
     "output_type": "display_data"
    }
   ],
   "source": [
    "# Para usar LaTeX en las graficas\n",
    "plt.rcParams['text.usetex'] = False\n",
    "plt.style.use('seaborn-notebook')\n",
    "\n",
    "fig, ax = plt.subplots()\n",
    "ax.plot(thetarad, sen, color='r', linewidth=3)\n",
    "ax.plot(thetarad, np.zeros((len(theta), 1)), color='k', linestyle='-', \\\n",
    "        linewidth=0.5)\n",
    "ax.set_xlabel('Angulo (rad)')\n",
    "ax.set_ylabel('Amplitud')\n",
    "ax.set_xlim((thetarad[0], thetarad[-1]))\n",
    "plt.savefig('funcionSeno.png')\n",
    "plt.draw()"
   ]
  }
 ],
 "metadata": {
  "jupytext": {
   "cell_metadata_filter": "-all",
   "encoding": "# -*- coding: utf-8 -*-",
   "notebook_metadata_filter": "-all"
  },
  "kernelspec": {
   "display_name": "Python 3 (ipykernel)",
   "language": "python",
   "name": "python3"
  },
  "language_info": {
   "codemirror_mode": {
    "name": "ipython",
    "version": 3
   },
   "file_extension": ".py",
   "mimetype": "text/x-python",
   "name": "python",
   "nbconvert_exporter": "python",
   "pygments_lexer": "ipython3",
   "version": "3.8.8"
  }
 },
 "nbformat": 4,
 "nbformat_minor": 5
}
