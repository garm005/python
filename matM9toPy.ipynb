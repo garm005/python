{
 "cells": [
  {
   "cell_type": "markdown",
   "id": "a5888d29",
   "metadata": {},
   "source": [
    "# Importación de datos de un archivo mat a Python\n",
    "Autor: Gabriel Ruiz Martínez\n",
    "IMTA. 2023\n",
    "\n",
    "Cuando se utiliza el perfilador portatil Sontek Surveyor M9 para medir flujos de agua y batimetría en un río o embalse de de agua, el dispositivo electrónico exporta los valores registrados en un archivo mat. Este tipo de archivos requiere que se tenga Matlab para procesar los datos. Sin embargo, Matlab es un programa comercial que en algunas ocasiones no se tiene la licencia para realizar el postprocesamiento de los datos del M9; por tal razón, a continuación se presenta una metodología para importar los datos de un archivo mat a Python.\n",
    "\n",
    "___________________________"
   ]
  },
  {
   "cell_type": "markdown",
   "id": "dbb47a87",
   "metadata": {},
   "source": [
    "Importando los módulos:"
   ]
  },
  {
   "cell_type": "code",
   "execution_count": 1,
   "id": "735506bb",
   "metadata": {},
   "outputs": [],
   "source": [
    "import numpy as np\n",
    "import scipy.io as sio \n",
    "import pandas as pd"
   ]
  },
  {
   "cell_type": "markdown",
   "id": "ab52ca5b",
   "metadata": {},
   "source": [
    "Para importar los datos que se encuentran almacenados en el archivo mat, vamos a usar el método `loadmat` del modulo Scipy. Este método importa los datos hacia un diccionario. Cada variable que se encuentra en el archivo mat, le corresponde un clave y valor en el diccionario. <br> \n",
    "\n",
    "Los nombres de las claves corresponden a los nombres de las estructuras de Matlab. A continuación, vamos a importar los datos de un archivo mat a la variable `datos`. Cabe resaltar que este archivo mat fue creado a partir del post-proceso que se realizó a un archivo riv del dispositivo Sontek Surveyor M9, usado para obtener la batimetría de un cuerpo de agua."
   ]
  },
  {
   "cell_type": "code",
   "execution_count": 2,
   "id": "2b5ca754",
   "metadata": {},
   "outputs": [],
   "source": [
    "datos = sio.loadmat('20230719091839', appendmat=True)"
   ]
  },
  {
   "cell_type": "markdown",
   "id": "372c3992",
   "metadata": {},
   "source": [
    "Vamos a revisar las etiquetas del diccionario con los datos importados."
   ]
  },
  {
   "cell_type": "code",
   "execution_count": 3,
   "id": "dc9c0e66",
   "metadata": {},
   "outputs": [
    {
     "data": {
      "text/plain": [
       "['BottomTrack',\n",
       " 'Compass',\n",
       " 'GPS',\n",
       " 'Processing',\n",
       " 'RawGPSData',\n",
       " 'Setup',\n",
       " 'SiteInfo',\n",
       " 'Summary',\n",
       " 'System',\n",
       " 'SystemHW',\n",
       " 'Transformation_Matrices',\n",
       " 'WaterTrack',\n",
       " '__globals__',\n",
       " '__header__',\n",
       " '__version__']"
      ]
     },
     "execution_count": 3,
     "metadata": {},
     "output_type": "execute_result"
    }
   ],
   "source": [
    "sorted(datos.keys())"
   ]
  },
  {
   "cell_type": "markdown",
   "id": "e3a76e01",
   "metadata": {},
   "source": [
    "Para este ejemplo, los datos que nos interesan se encuentran en las etiquetas <i>BottomTrack</i> y <i>GPS</i>. Extraígamos los datos que se encuentran en BottomTrack y vamos a almacenarlos en la variable `databBT`."
   ]
  },
  {
   "cell_type": "code",
   "execution_count": 4,
   "id": "8345cf65",
   "metadata": {},
   "outputs": [],
   "source": [
    "dataBT = datos['BottomTrack']"
   ]
  },
  {
   "cell_type": "markdown",
   "id": "2aa74100",
   "metadata": {},
   "source": [
    "Vamos a identificar el tipo de datos que contiene la variable `dataBT`:"
   ]
  },
  {
   "cell_type": "code",
   "execution_count": 5,
   "id": "ac4de116",
   "metadata": {},
   "outputs": [
    {
     "data": {
      "text/plain": [
       "dtype([('VB_Depth', 'O'), ('BT_Depth', 'O'), ('BT_Vel', 'O'), ('BT_Beam_Depth', 'O'), ('BT_Frequency', 'O'), ('Units', 'O')])"
      ]
     },
     "execution_count": 5,
     "metadata": {},
     "output_type": "execute_result"
    }
   ],
   "source": [
    "dataBT.dtype"
   ]
  },
  {
   "cell_type": "markdown",
   "id": "d6a0c9c1",
   "metadata": {},
   "source": [
    "Podemos identificar que Scipy lee las estructuras de Matlab como <b>arreglos estructurados de Numpy</b> (<i>ndarray object of Numpy module</i>) y el tipo de dato será \"objeto\"  (<i>'O'</i> ). También podemos observar que la estructura BottomTrack, contiene 6 subestructuras donde se encuentran los datos registrados por el dispositivo electrónico M9. Vamos a extraer los datos de las profundidades (valor z) y almacenarlos en sus respectivas variables:"
   ]
  },
  {
   "cell_type": "code",
   "execution_count": 6,
   "id": "91aa617e",
   "metadata": {},
   "outputs": [],
   "source": [
    "dBT = datos[\"BottomTrack\"][\"BT_Depth\"]"
   ]
  },
  {
   "cell_type": "markdown",
   "id": "37ad1f4d",
   "metadata": {},
   "source": [
    "A continuación, verífiquemos el tamaño y el número de elementos que tienen las variables con los datos de interés"
   ]
  },
  {
   "cell_type": "code",
   "execution_count": 7,
   "id": "23d0e90f",
   "metadata": {},
   "outputs": [
    {
     "data": {
      "text/plain": [
       "1"
      ]
     },
     "execution_count": 7,
     "metadata": {},
     "output_type": "execute_result"
    }
   ],
   "source": [
    "dBT.size"
   ]
  },
  {
   "cell_type": "code",
   "execution_count": 8,
   "id": "6c3cc06a",
   "metadata": {},
   "outputs": [
    {
     "data": {
      "text/plain": [
       "(1, 1)"
      ]
     },
     "execution_count": 8,
     "metadata": {},
     "output_type": "execute_result"
    }
   ],
   "source": [
    "dBT.shape"
   ]
  },
  {
   "cell_type": "markdown",
   "id": "f7fabe92",
   "metadata": {},
   "source": [
    "El tamaño del arreglo estructurado es igual al tamaño de la estructura de Matlab, pero por default, Scipy proporciona una objeto bidimensional. Para comprender que ocurre con el tamaño y número de datos, vamos a revisar el contenido de la variable:"
   ]
  },
  {
   "cell_type": "code",
   "execution_count": 9,
   "id": "109f68cc",
   "metadata": {},
   "outputs": [
    {
     "data": {
      "text/plain": [
       "array([[array([[0.41599999],\n",
       "               [0.415     ],\n",
       "               [0.43399999],\n",
       "               ...,\n",
       "               [0.71400002],\n",
       "               [0.70900003],\n",
       "               [0.70500002]])]], dtype=object)"
      ]
     },
     "execution_count": 9,
     "metadata": {},
     "output_type": "execute_result"
    }
   ],
   "source": [
    "dBT"
   ]
  },
  {
   "cell_type": "markdown",
   "id": "47df35ed",
   "metadata": {},
   "source": [
    "Observa que el número de datos almacenados es uno, pero el objeto tiene dos dimensiones. Para tener objetos unidimensionales es necesario agregar el parámetro `squeeze_me=True` en el método `loadmat`. \n",
    "\n",
    "Vamos a borrar todas las variables que hemos generado para volver a cargar los datos, pero ahora vamos a obtener arreglos estructurados de una dimensión:"
   ]
  },
  {
   "cell_type": "code",
   "execution_count": 10,
   "id": "9ca49447",
   "metadata": {},
   "outputs": [],
   "source": [
    "del datos, dataBT, dBT"
   ]
  },
  {
   "cell_type": "code",
   "execution_count": 11,
   "id": "5468d992",
   "metadata": {},
   "outputs": [],
   "source": [
    "datos = sio.loadmat('20230719091839', appendmat=True, squeeze_me=True)\n",
    "dBT = datos[\"BottomTrack\"][\"BT_Depth\"]"
   ]
  },
  {
   "cell_type": "markdown",
   "id": "fa7f12fe",
   "metadata": {},
   "source": [
    "Vamos a revisar el tamaño, dimensión, tipo de dato y los valores de la variable `dBT`:"
   ]
  },
  {
   "cell_type": "code",
   "execution_count": 12,
   "id": "d6277634",
   "metadata": {},
   "outputs": [
    {
     "data": {
      "text/plain": [
       "1"
      ]
     },
     "execution_count": 12,
     "metadata": {},
     "output_type": "execute_result"
    }
   ],
   "source": [
    "dBT.size\n"
   ]
  },
  {
   "cell_type": "code",
   "execution_count": 13,
   "id": "0495ea12",
   "metadata": {},
   "outputs": [
    {
     "data": {
      "text/plain": [
       "()"
      ]
     },
     "execution_count": 13,
     "metadata": {},
     "output_type": "execute_result"
    }
   ],
   "source": [
    "dBT.shape"
   ]
  },
  {
   "cell_type": "code",
   "execution_count": 14,
   "id": "8543c3fd",
   "metadata": {},
   "outputs": [
    {
     "data": {
      "text/plain": [
       "dtype('O')"
      ]
     },
     "execution_count": 14,
     "metadata": {},
     "output_type": "execute_result"
    }
   ],
   "source": [
    "dBT.dtype"
   ]
  },
  {
   "cell_type": "code",
   "execution_count": 15,
   "id": "98703d89",
   "metadata": {},
   "outputs": [
    {
     "data": {
      "text/plain": [
       "array(array([0.41599999, 0.415     , 0.43399999, ..., 0.71400002, 0.70900003,\n",
       "       0.70500002]), dtype=object)"
      ]
     },
     "execution_count": 15,
     "metadata": {},
     "output_type": "execute_result"
    }
   ],
   "source": [
    "dBT"
   ]
  },
  {
   "cell_type": "markdown",
   "id": "14130b6e",
   "metadata": {},
   "source": [
    "Podemos identificar que `dBT` tiene una dimensión cero, por ello, Python maneja el arreglo como unidimensional. Para mayor detalle, consulta la sección de <i>Calculation</i> en https://numpy.org/doc/stable/reference/arrays.ndarray.html<br>\n",
    "\n",
    "También se identifica que el tipo de dato sigue siendo un objeto. A continuación vamos a convertir el arreglo \"objeto\" a un arreglo numérico. Para ello, vamos a realizar una copia del arreglo y lo colapsaremos a un arreglo de una dimensión:"
   ]
  },
  {
   "cell_type": "code",
   "execution_count": 16,
   "id": "19f8598b",
   "metadata": {},
   "outputs": [],
   "source": [
    "dBT1d = dBT.flatten()"
   ]
  },
  {
   "cell_type": "markdown",
   "id": "1ea871f8",
   "metadata": {},
   "source": [
    "Revisamos la dimensión del nuevo arreglo:"
   ]
  },
  {
   "cell_type": "code",
   "execution_count": 17,
   "id": "d894058b",
   "metadata": {},
   "outputs": [
    {
     "data": {
      "text/plain": [
       "(1,)"
      ]
     },
     "execution_count": 17,
     "metadata": {},
     "output_type": "execute_result"
    }
   ],
   "source": [
    "dBT1d.shape"
   ]
  },
  {
   "cell_type": "code",
   "execution_count": 18,
   "id": "2cb092ce",
   "metadata": {},
   "outputs": [
    {
     "data": {
      "text/plain": [
       "array([array([0.41599999, 0.415     , 0.43399999, ..., 0.71400002, 0.70900003,\n",
       "              0.70500002])                                                    ],\n",
       "      dtype=object)"
      ]
     },
     "execution_count": 18,
     "metadata": {},
     "output_type": "execute_result"
    }
   ],
   "source": [
    "dBT1d"
   ]
  },
  {
   "cell_type": "markdown",
   "id": "3f874859",
   "metadata": {},
   "source": [
    "Vamos a poner el arreglo de manera vertical, después visualizamos el arreglo, así como el tipo de dato que tiene en arreglo:"
   ]
  },
  {
   "cell_type": "code",
   "execution_count": 19,
   "id": "b083a82e",
   "metadata": {},
   "outputs": [
    {
     "name": "stdout",
     "output_type": "stream",
     "text": [
      "[[0.41599999 0.415      0.43399999 ... 0.71400002 0.70900003 0.70500002]]\n",
      "Tipo de dato: float64\n"
     ]
    }
   ],
   "source": [
    "dBT1d = np.vstack(dBT1d)\n",
    "print(dBT1d)\n",
    "print('Tipo de dato:', dBT1d.dtype)"
   ]
  },
  {
   "cell_type": "markdown",
   "id": "1eeccbb8",
   "metadata": {},
   "source": [
    "Para finalizar vamos a crear un arreglo columna, con el número de datos que tiene el arreglo:"
   ]
  },
  {
   "cell_type": "code",
   "execution_count": 20,
   "id": "b974b9db",
   "metadata": {},
   "outputs": [],
   "source": [
    "del dBT\n",
    "dBT = dBT1d.reshape(dBT1d.size)"
   ]
  },
  {
   "cell_type": "markdown",
   "id": "c5c83c3f",
   "metadata": {},
   "source": [
    "El  arreglo, tamaño, tipo de dato y dimension son:"
   ]
  },
  {
   "cell_type": "code",
   "execution_count": 21,
   "id": "f1ce249d",
   "metadata": {},
   "outputs": [
    {
     "data": {
      "text/plain": [
       "array([0.41599999, 0.415     , 0.43399999, ..., 0.71400002, 0.70900003,\n",
       "       0.70500002])"
      ]
     },
     "execution_count": 21,
     "metadata": {},
     "output_type": "execute_result"
    }
   ],
   "source": [
    "dBT"
   ]
  },
  {
   "cell_type": "code",
   "execution_count": 22,
   "id": "fa4dd572",
   "metadata": {},
   "outputs": [
    {
     "name": "stdout",
     "output_type": "stream",
     "text": [
      "4321 datos\n",
      "(4321,)\n",
      "Tipos de datos: float64\n",
      "Tipo de variable: <class 'numpy.ndarray'>\n"
     ]
    }
   ],
   "source": [
    "print(dBT.size, 'datos')\n",
    "print(dBT.shape)\n",
    "print('Tipos de datos:', dBT.dtype)\n",
    "print('Tipo de variable:', type(dBT))"
   ]
  },
  {
   "cell_type": "markdown",
   "id": "270e452a",
   "metadata": {},
   "source": [
    "Vamos a importar los datos registrados por el sensor vertical de profundidad del M9:"
   ]
  },
  {
   "cell_type": "code",
   "execution_count": 23,
   "id": "a59c5f04",
   "metadata": {},
   "outputs": [],
   "source": [
    "dvb = datos[\"BottomTrack\"][\"VB_Depth\"]\n",
    "dVb = np.vstack(dvb.flatten())\n",
    "dVB = dVb.reshape(dVb.size)\n",
    "del dvb, dVb"
   ]
  },
  {
   "cell_type": "markdown",
   "id": "2e7cc651",
   "metadata": {},
   "source": [
    "También, vamos a extraer las coordenadas geográficas de los puntos muestreados (coordenadas espaciales x y y, o latitud y longitud) y almacenarlos en sus respectivas variables. Las coordenadas se encuentran en la etiqueta GPS y en las subestructuras 'UTM', 'longitude' y 'latitude'."
   ]
  },
  {
   "cell_type": "code",
   "execution_count": 24,
   "id": "cd12a51a",
   "metadata": {},
   "outputs": [],
   "source": [
    "longi = datos[\"GPS\"][\"Longitude\"]\n",
    "longit = np.vstack(longi.flatten())\n",
    "lon = longit.reshape(longit.size)\n",
    "del longi, longit\n",
    "\n",
    "latid = datos[\"GPS\"][\"Latitude\"]\n",
    "lati = np.vstack(latid.flatten())\n",
    "lat = lati.reshape(lati.size)\n",
    "del latid, lati\n",
    "\n",
    "utm = datos[\"GPS\"][\"UTM\"]\n",
    "utmd = datos[\"GPS\"][\"UTM\"]\n",
    "utm1 = np.stack(utmd.flatten())\n",
    "utm = utm1.reshape(utm1.size)\n",
    "del utmd, utm1"
   ]
  },
  {
   "cell_type": "markdown",
   "id": "bfd69704",
   "metadata": {},
   "source": [
    "En el caso de las coordenadas UTM, los datos se encontraban en un arreglo con dos columnas, pero al momento de convertir el arreglo estructurado (objeto) a un arreglo de una columna por n líneas, el arreglo que obtuvimos fue unidimensional, por tal razón, es necesario \"filtrar\" las coordenadas x y y de dicho arreglo."
   ]
  },
  {
   "cell_type": "code",
   "execution_count": 25,
   "id": "21ca28ce",
   "metadata": {},
   "outputs": [],
   "source": [
    "yind = np.where(utm > 1000000)\n",
    "y = utm[yind]\n",
    "xind = np.where(utm < 600000)\n",
    "x = utm[xind]\n",
    "del yind, xind"
   ]
  },
  {
   "cell_type": "markdown",
   "id": "5d12a9f4",
   "metadata": {},
   "source": [
    "A manera de respaldo, vamos a exportar todos los datos que fueron importados del archivo mat a un archivo del tipo csv, que puede abrirse con un programa de hojas de cálculo electrónico o un programa que permita abrir archivos de texto plano. La exportación la haremos usando el modulo Pandas. Por tal razón, vamos almacenar todos los arreglos que nos interesan en un DataFrame de Pandas:"
   ]
  },
  {
   "cell_type": "code",
   "execution_count": 26,
   "id": "d3c99a7f",
   "metadata": {},
   "outputs": [
    {
     "name": "stdout",
     "output_type": "stream",
     "text": [
      "      lon(°)     lat(°)           x(m)          y(m)  BT(m)  VB(m)\n",
      "0 -92.847107  15.203079  516421.539201  1.680793e+06  0.416  0.412\n",
      "1 -92.847107  15.203079  516421.539201  1.680793e+06  0.415  0.437\n",
      "2 -92.847107  15.203079  516421.539201  1.680793e+06  0.434  0.435\n",
      "3 -92.847107  15.203079  516421.539201  1.680793e+06  0.436  0.000\n",
      "4 -92.847107  15.203079  516421.539201  1.680793e+06  0.419  0.000\n"
     ]
    }
   ],
   "source": [
    "data = pd.DataFrame({'lon(°)':lon, 'lat(°)':lat, 'x(m)':x, 'y(m)':y, 'BT(m)':dBT, 'VB(m)':dVB})\n",
    "print(data.head())"
   ]
  },
  {
   "cell_type": "markdown",
   "id": "5c0786c8",
   "metadata": {},
   "source": [
    "A continuación vamos a exportar el DataFrame al archivo csv:"
   ]
  },
  {
   "cell_type": "code",
   "execution_count": 27,
   "id": "72d1d4f7",
   "metadata": {},
   "outputs": [],
   "source": [
    "data.to_csv('datos.csv', header=False, index=False)"
   ]
  }
 ],
 "metadata": {
  "kernelspec": {
   "display_name": "Python 3 (ipykernel)",
   "language": "python",
   "name": "python3"
  },
  "language_info": {
   "codemirror_mode": {
    "name": "ipython",
    "version": 3
   },
   "file_extension": ".py",
   "mimetype": "text/x-python",
   "name": "python",
   "nbconvert_exporter": "python",
   "pygments_lexer": "ipython3",
   "version": "3.8.8"
  }
 },
 "nbformat": 4,
 "nbformat_minor": 5
}
